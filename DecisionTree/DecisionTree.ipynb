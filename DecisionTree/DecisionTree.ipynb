{
 "metadata": {
  "name": "",
  "signature": "sha256:bec6c6aa3aed650290cdc4c988058cadc458868addd76abde072a02fa7886d0a"
 },
 "nbformat": 3,
 "nbformat_minor": 0,
 "worksheets": [
  {
   "cells": [
    {
     "cell_type": "code",
     "collapsed": false,
     "input": [
      "######################IMPORT####################\n",
      "#This is used to open and manipulate csv file\n",
      "import csv \n",
      "import random\n",
      "from math import log"
     ],
     "language": "python",
     "metadata": {},
     "outputs": [],
     "prompt_number": 1
    },
    {
     "cell_type": "code",
     "collapsed": false,
     "input": [
      "#################CUSTOM FUNCTIONS##############\n",
      "#Random sample of the data. Retrun 80% training data and 20% tuning data\n",
      "def sample(data,parts):\n",
      "    #Shuffle the data points\n",
      "    shuffle_data = random.shuffle(data)\n",
      "    random.shuffle(data)\n",
      "    #We multiply with 0.8 to get first 80% of shuffled data as \n",
      "    size_dataset = int(len(data)*0.8)\n",
      "    \n",
      "    training_set = data[0:size_dataset]\n",
      "    test_set = data[size_dataset:len(data)]\n",
      "\n",
      "    return training_set,test_set\n",
      "    \n",
      "def entropy1(data_points,yuhu=2):\n",
      "\n",
      "    #Since its a  binary class i am calculating the number of datapoints with 0 and 1 i,e yes/no class\n",
      "    yes=0\n",
      "    no=0\n",
      "    for data_point in data_points:\n",
      "        #These are the negative points\n",
      "        if data_point[0]==0:\n",
      "            no=no+1\n",
      "        #These are the positive points\n",
      "        elif data_point[0]==1:\n",
      "            yes=yes+1\n",
      "        \n",
      "#     if(yuhu==0):\n",
      "#         print(\"YES \")\n",
      "#         print(yes)\n",
      "#         print(\"No\")\n",
      "#         print(no)\n",
      "   # Now calculate the entropy\n",
      "    entropy_val=0.0\n",
      "    entropy_child1 = 0\n",
      "    entropy_child2 = 0\n",
      "    entropy_yes = 0\n",
      "    entropy_no =0\n",
      "    if(len(data_points)>0):\n",
      "        if(yes>0):\n",
      "            entropy_yes=float(yes)/len(data_points)\n",
      "            entropy_child1 = entropy_yes*math.log(entropy_yes,2)\n",
      "        if(no>0):\n",
      "            entropy_no=float(no)/len(data_points)\n",
      "            entropy_child2 = entropy_no*math.log(entropy_no,2)\n",
      "        entropy_val=entropy_val-( entropy_child1 + entropy_child2)\n",
      "#     print(entropy_val)\n",
      "    return entropy_val\n",
      "    "
     ],
     "language": "python",
     "metadata": {},
     "outputs": [],
     "prompt_number": 3
    },
    {
     "cell_type": "code",
     "collapsed": false,
     "input": [
      "##################DATA HANDLING################\n",
      "#Open the csv file \n",
      "data = open(\"C:\\Users\\AshutoshBhargave\\Desktop\\AML\\PA1\\MONK DATA\\monks-1.txt\",\"rb\")\n",
      "training_data = csv.reader(data,delimiter=\" \")\n",
      "o = []\n",
      "for i in training_data:\n",
      "    o.append(i[1:9])\n",
      "\n",
      "#Split Data into training and tuning set\n",
      "training_set,tuning_set = sample(o,2)\n",
      "# training_cols =  [list(col) for col in zip(*training_set)]\n",
      "# tuning_cols =  [list(col) for col in zip(*tuning_set)]"
     ],
     "language": "python",
     "metadata": {},
     "outputs": [],
     "prompt_number": 4
    },
    {
     "cell_type": "code",
     "collapsed": false,
     "input": [
      "print(training_set[50])"
     ],
     "language": "python",
     "metadata": {},
     "outputs": [
      {
       "output_type": "stream",
       "stream": "stdout",
       "text": [
        "['1', '3', '3', '2', '3', '4', '2', 'data_432']\n"
       ]
      }
     ],
     "prompt_number": 5
    },
    {
     "cell_type": "code",
     "collapsed": false,
     "input": [
      "#CHANGE THE DATATYPE OF THE NUMBERS FROM STRING TO INTEGER AND KEEP THE STRINGS AS STRING.\n",
      "for index,datapoint in enumerate(training_set):\n",
      "    m=len(training_set[index])-1\n",
      "    id1=training_set[index][m]\n",
      "    training_set[index]=map(int,training_set[index][0:m])\n",
      "    training_set[index].append(id1)\n"
     ],
     "language": "python",
     "metadata": {},
     "outputs": [],
     "prompt_number": 7
    },
    {
     "cell_type": "code",
     "collapsed": false,
     "input": [
      "entropy1(training_set)"
     ],
     "language": "python",
     "metadata": {},
     "outputs": [
      {
       "metadata": {},
       "output_type": "pyout",
       "prompt_number": 8,
       "text": [
        "0.9963906193677698"
       ]
      }
     ],
     "prompt_number": 8
    },
    {
     "cell_type": "code",
     "collapsed": false,
     "input": [
      "class CreateNode:\n",
      "  def __init__(self,\n",
      "               #THe element column_name stores the name of the node\n",
      "               column_name=-1,\n",
      "               #THe element split stores the the splitting condition\n",
      "               split=None,\n",
      "               #This stores the items in \"yes\" class at that node\n",
      "               yes=None,\n",
      "               #This stores the items in \"no\" class at that node\n",
      "               no=None,\n",
      "               #This stores the column name of the left node\n",
      "               left_node=None,\n",
      "               #This stores the column name of right node\n",
      "               right_node=None):\n",
      "    self.column_name=column_name\n",
      "    self.split=split\n",
      "    self.yes=yes\n",
      "    self.no=no\n",
      "    self.left_node=left_node\n",
      "    self.right_node=right_node"
     ],
     "language": "python",
     "metadata": {},
     "outputs": [],
     "prompt_number": 9
    },
    {
     "cell_type": "code",
     "collapsed": false,
     "input": [
      "training_cols=  [list(col) for col in zip(*training_set)]\n"
     ],
     "language": "python",
     "metadata": {},
     "outputs": [],
     "prompt_number": 10
    },
    {
     "cell_type": "code",
     "collapsed": false,
     "input": [
      "\n",
      "def createTree(datapoints,depth): #rows is the set, either whole dataset or part of it in the recursive call, \n",
      "                                    #scoref is the method to measure heterogeneity. By default it's entropy.\n",
      "    #This is the stopping condition \n",
      "    #1. When all the datapoints have been classified\n",
      "    #2. When the depth has been reached\n",
      "    if(len(datapoints)==0 or depth==0) : \n",
      "        return CreateNode() #len(rows) is the number of units in a set\n",
      "  \n",
      "#     print(datapoints)\n",
      "    node_entropy = entropy1(datapoints,0)\n",
      "    #Drop the column with the heading as \"id\"\n",
      "    print(\"node entropy is \" + str(node_entropy))\n",
      "    print(len(datapoints))\n",
      "    #For handling monks dataset the last column is the id. This column contains the strings which are of no use\n",
      "    #So, drop them.\n",
      "    #1. Convert rows to columns\n",
      "    training_cols =  [list(col) for col in zip(*datapoints)]\n",
      "    #2. Drop the last id column\n",
      "    #print(training_cols[0:len(training_cols)-1])\n",
      "    training_points=training_cols[0:len(training_cols)-1]\n",
      "    #3. Again convert the data to rows\n",
      "    training_points =  [list(col) for col in zip(*training_points)]\n",
      "        \n",
      "    #Convert the dataset into columns instead of rows to find the best split at each feature.\n",
      "    training_cols =  [list(col) for col in zip(*training_points)]\n",
      "        \n",
      "    parent_gain = 0\n",
      "    decision_column = 0\n",
      "    decision_value = 0\n",
      "    decision_data1 = 0\n",
      "    decision_data2 = 0\n",
      "    \n",
      "    node_gain = []\n",
      "    best_column = []\n",
      "    best_value = []\n",
      "    best_data1 = []\n",
      "    best_data2 = []\n",
      "    \n",
      "    #First iterate over all the features and find the best feature at this node\n",
      "    #We neglect the first column as the first feature is the target column\n",
      "    for feature in range(1,len(training_cols)) :\n",
      "             \n",
      "        #Now iterate over all the values of each feature.\n",
      "        #1. First sort all the values.\n",
      "        training_cols[feature] = sort(training_cols[feature])\n",
      "        #print(\"Feature is\"+str(feature))\n",
      "        for i,element in enumerate(training_cols[feature]) :\n",
      "            data1 = []\n",
      "            data2 = []\n",
      "            \n",
      "            if i!= len(training_cols[feature])-1:\n",
      "                #print(len(training_cols[feature]))\n",
      "                if(training_cols[feature][i]!=0 and training_cols[feature][i+1]!=0):\n",
      "                    value = (training_cols[feature][i]+training_cols[feature][i+1])/2\n",
      "                else:\n",
      "                    value=0\n",
      "            else:\n",
      "                value=training_cols[feature][i]\n",
      "            \n",
      "            for training_point in training_points:\n",
      "                if(training_point[feature]<=value):\n",
      "                    data1.append(training_point)\n",
      "                else:\n",
      "                    data2.append(training_point)\n",
      "            \n",
      "            data1_size = float(len(data1))/len(training_points)\n",
      "            data2_size = float(len(data2))/len(training_points)\n",
      "            #Calculate entropy of child 1\n",
      "            entropy_data1 = data1_size*entropy1(data1)\n",
      "            #Calculate entropy of child 2\n",
      "            entropy_data2 = data2_size*entropy1(data2)\n",
      "            #sum children's entropy\n",
      "            child_entropy = entropy_data1+entropy_data2\n",
      "            information_gain=node_entropy-child_entropy\n",
      "            \n",
      "#             print(\"********Data 1 &2\")\n",
      "#             print(len(data1))\n",
      "#             print(len(data2))\n",
      "            if len(data1)>0 and len(data2)>0:\n",
      "                if information_gain > parent_gain:\n",
      "                    parent_gain = information_gain\n",
      "                    decision_column = feature\n",
      "                    decision_value = value\n",
      "                    decision_data1 = data1\n",
      "                    decision_data2 = data2\n",
      "        \n",
      "        node_gain.append(parent_gain)\n",
      "        best_column.append(decision_column)\n",
      "        best_value.append(decision_value)\n",
      "        best_data1.append(decision_data1)\n",
      "        best_data2.append(decision_data2)\n",
      "        \n",
      "    #Find the index of the best gain list\n",
      "    if(len(node_gain)>=1):\n",
      "        index = node_gain.index(max(node_gain))\n",
      "        best_node_gain=node_gain[index]\n",
      "    else:\n",
      "        best_node_gain=0\n",
      "    print(\"Final Output\")\n",
      "    print(best_node_gain)\n",
      "#     print(best_column[index])\n",
      "    \n",
      "#     print(\"The size of the existing rows is \")\n",
      "#     print(len(training_cols[0]))\n",
      "    \n",
      "#     print(len(best_data1[index]))\n",
      "#     print(len(best_data2[index]))\n",
      "#     print(\"splitting point is \",best_value[index])\n",
      "#     print((best_data1[index]))\n",
      "#     print(best_data2[index])\n",
      "#     print(\"***************\")\n",
      "    #If the gain is greater than 0 then only create the new node and left and right node.\n",
      "    if(best_node_gain>0 ):\n",
      "        #Create left node\n",
      "        #1. Remove the existing parent node feature from the consideration at next levels.\n",
      "        #1a. Convert rows to columns\n",
      "#         training_cols_left =  [list(col) for col in zip(*best_data1[index])]\n",
      "#         #1b. Drop the last id column\n",
      "#         del training_cols_left[index]\n",
      "#         #1c. Again convert the data to rows\n",
      "#         training_points_left =  [list(col) for col in zip(*training_cols_left)]\n",
      "#         print(\"Create Left node\")\n",
      "#         print(len(best_data1[index]))\n",
      "        print(\"Depth of the tree is \" + str(depth-1))\n",
      "        left_depth = depth-1\n",
      "        left_node = createTree(best_data1[index],left_depth)\n",
      "        \n",
      "        #Create right node\n",
      "        #1. Remove the existing parent node feature from the consideration at next levels.\n",
      "        #1a. Convert rows to columns\n",
      "#         training_cols_right =  [list(col) for col in zip(*best_data2[index])]\n",
      "#         #1b. Drop the last id column\n",
      "#         del training_cols_right[index]\n",
      "#         #1c. Again convert the data to rows\n",
      "#         training_points_right =  [list(col) for col in zip(*training_cols_right)]\n",
      "        print(\"Create Right node\")\n",
      "#         print(len(training_points_right[0]))\n",
      "        print(\"Depth of the tree is \" + str(depth-1))\n",
      "        right_depth = depth-1\n",
      "        right_node = createTree(best_data2[index],right_depth)\n",
      "        \n",
      "        return CreateNode(\n",
      "               column_name=best_column[index],\n",
      "               #THe element split stores the the splitting condition\n",
      "               split=best_value[index],\n",
      "               #This stores the column name of the left node\n",
      "               left_node=left_node,\n",
      "               #This stores the column name of right node\n",
      "               right_node=right_node\n",
      "               )\n",
      "    else:\n",
      "        print(\"Feature sorted at depth\" )\n",
      "        print(depth)\n",
      "        \n",
      "        temp_y = 0\n",
      "        temp_n = 0\n",
      "        for i in training_cols[0]:\n",
      "            if(i==0):\n",
      "                temp_n = temp_n + 1\n",
      "            if(i==1):\n",
      "                temp_y = temp_y + 1\n",
      "        print(\"Yes ->\",str(temp_y))\n",
      "        print(\"No ->\",str(temp_n))\n",
      "        return CreateNode(yes=temp_y,no=temp_n)\n",
      "#   # Create the sub branches   \n",
      "#   if best_gain>0:\n",
      "#     trueBranch=buildtree(best_sets[0])\n",
      "#     falseBranch=buildtree(best_sets[1])\n",
      "#     return decisionnode(col=best_criteria[0],value=best_criteria[1],\n",
      "#                         tb=trueBranch,fb=falseBranch)\n",
      "#   else:\n",
      "#     return decisionnode(results=uniquecounts(rows))"
     ],
     "language": "python",
     "metadata": {},
     "outputs": [],
     "prompt_number": 11
    },
    {
     "cell_type": "code",
     "collapsed": false,
     "input": [
      "a = [ 1,2,3,4,5]\n",
      "del a[3]\n",
      "print(a)"
     ],
     "language": "python",
     "metadata": {},
     "outputs": [
      {
       "output_type": "stream",
       "stream": "stdout",
       "text": [
        "[1, 2, 3, 5]\n"
       ]
      }
     ],
     "prompt_number": 12
    },
    {
     "cell_type": "code",
     "collapsed": false,
     "input": [
      "training_cols[0] = sort(training_cols[0])\n",
      "training_cols[0]\n",
      "temp_y = 0\n",
      "temp_n = 0\n",
      "for i in training_cols[0]:\n",
      "    if(i==0):\n",
      "        temp_n = temp_n + 1\n",
      "    if(i==1):\n",
      "        temp_y = temp_y + 1\n",
      "print(temp_n)"
     ],
     "language": "python",
     "metadata": {},
     "outputs": [
      {
       "output_type": "stream",
       "stream": "stdout",
       "text": [
        "46\n"
       ]
      }
     ],
     "prompt_number": 13
    },
    {
     "cell_type": "code",
     "collapsed": false,
     "input": [
      "Tree = createTree(training_set,8)"
     ],
     "language": "python",
     "metadata": {},
     "outputs": [
      {
       "output_type": "stream",
       "stream": "stdout",
       "text": [
        "node entropy is 0.996390619368\n",
        "99\n",
        "Final Output\n",
        "0.25344190043\n",
        "Depth of the tree is 7\n",
        "node entropy is 0.0\n",
        "23\n",
        "Final Output\n",
        "0\n",
        "Feature sorted at depth\n",
        "7\n",
        "('Yes ->', '23')\n",
        "('No ->', '0')\n",
        "Create Right node\n",
        "Depth of the tree is 7\n",
        "node entropy is 0.967788462827\n",
        "76\n",
        "Final Output\n",
        "0.0472503051598\n",
        "Depth of the tree is 6\n",
        "node entropy is 0.811278124459\n",
        "32\n",
        "Final Output"
       ]
      },
      {
       "output_type": "stream",
       "stream": "stdout",
       "text": [
        "\n",
        "0.811278124459\n",
        "Depth of the tree is 5\n",
        "node entropy is 0.0\n",
        "8\n",
        "Final Output\n",
        "0\n",
        "Feature sorted at depth\n",
        "5\n",
        "('Yes ->', '8')\n",
        "('No ->', '0')\n",
        "Create Right node\n",
        "Depth of the tree is 5\n",
        "node entropy is 0.0\n",
        "24\n",
        "Final Output\n",
        "0\n",
        "Feature sorted at depth\n",
        "5\n",
        "('Yes ->', '0')\n",
        "('No ->', '24')\n",
        "Create Right node\n",
        "Depth of the tree is 6\n",
        "node entropy is 1.0\n",
        "44\n",
        "Final Output\n",
        "0.474489345585\n",
        "Depth of the tree is 5\n",
        "node entropy is 0.0\n",
        "15\n",
        "Final Output\n",
        "0\n",
        "Feature sorted at depth\n",
        "5\n",
        "('Yes ->', '0')\n",
        "('No ->', '15')\n",
        "Create Right node\n",
        "Depth of the tree is 5\n",
        "node entropy is 0.797326510147\n",
        "29\n",
        "Final Output\n",
        "0.0253065014793\n",
        "Depth of the tree is 4\n",
        "node entropy is 0.619382194679\n",
        "13\n",
        "Final Output\n",
        "0.000778811604424\n",
        "Depth of the tree is 3\n",
        "node entropy is 0.650022421648\n",
        "6\n",
        "Final Output\n",
        "0\n",
        "Feature sorted at depth\n",
        "3\n",
        "('Yes ->', '5')\n",
        "('No ->', '1')\n",
        "Create Right node\n",
        "Depth of the tree is 3\n",
        "node entropy is 0.591672778582\n",
        "7\n",
        "Final Output\n",
        "0\n",
        "Feature sorted at depth\n",
        "3\n",
        "('Yes ->', '6')\n",
        "('No ->', '1')\n",
        "Create Right node\n",
        "Depth of the tree is 4\n",
        "node entropy is 0.896038232535\n",
        "16\n",
        "Final Output\n",
        "0.0131821688425\n",
        "Depth of the tree is 3\n",
        "node entropy is 0.954434002925\n",
        "8\n",
        "Final Output\n",
        "0\n",
        "Feature sorted at depth\n",
        "3\n",
        "('Yes ->', '5')\n",
        "('No ->', '3')\n",
        "Create Right node\n",
        "Depth of the tree is 3\n",
        "node entropy is 0.811278124459\n",
        "8\n",
        "Final Output\n",
        "0\n",
        "Feature sorted at depth\n",
        "3\n",
        "('Yes ->', '6')\n",
        "('No ->', '2')\n"
       ]
      }
     ],
     "prompt_number": 14
    },
    {
     "cell_type": "code",
     "collapsed": false,
     "input": [
      "\n",
      "                \n",
      "def getwidth(tree):\n",
      "  if tree.right_node==None and tree.left_node==None: return 1\n",
      "  return getwidth(tree.right_node)+getwidth(tree.left_node)\n",
      "\n",
      "def getdepth(tree):\n",
      "  if tree.right_node==None and tree.left_node==None: return 0\n",
      "  return max(getdepth(tree.right_node),getdepth(tree.left_node))+1\n",
      "\n",
      "\n",
      "from PIL import Image,ImageDraw\n",
      "# import Image\n",
      "def drawtree(tree,jpeg='tree.jpg'):\n",
      "  w=getwidth(tree)*100\n",
      "  h=getdepth(tree)*100+120\n",
      "\n",
      "  img=Image.new('RGB',(w,h),(255,255,255))\n",
      "  draw=ImageDraw.Draw(img)\n",
      "\n",
      "  drawnode(draw,tree,w/2,20)\n",
      "#   img.format = \"PNG\"\n",
      "#   img.show()\n",
      "  img.save(jpeg,'JPEG')\n",
      "  \n",
      "def drawnode(draw,tree,x,y):\n",
      "  if tree.yes==None and tree.no==None:\n",
      "    # Get the width of each branch\n",
      "    w1=getwidth(tree.left_node)*100\n",
      "    w2=getwidth(tree.right_node)*100\n",
      "\n",
      "    # Determine the total space required by this node\n",
      "    left=x-(w1+w2)/2\n",
      "    right=x+(w1+w2)/2\n",
      "\n",
      "    # Draw the condition string\n",
      "    draw.text((x-20,y-10),str(tree.column_name)+':'+str(tree.split),(0,0,0))\n",
      "\n",
      "    # Draw links to the branches\n",
      "    draw.line((x,y,left+w1/2,y+100),fill=(255,0,0))\n",
      "    draw.line((x,y,right-w2/2,y+100),fill=(255,0,0))\n",
      "    \n",
      "    # Draw the branch nodes\n",
      "    drawnode(draw,tree.left_node,left+w1/2,y+100)\n",
      "    drawnode(draw,tree.right_node,right-w2/2,y+100)\n",
      "#   else:\n",
      "    \n",
      "#     txt=' \\n'.join(['%s:%d'%v for v in tree.results.items()])\n",
      "#     draw.text((x-20,y),txt,(0,0,0))\n",
      "drawtree(Tree,jpeg='treeview.jpg')"
     ],
     "language": "python",
     "metadata": {},
     "outputs": [
      {
       "ename": "ImportError",
       "evalue": "No module named PIL",
       "output_type": "pyerr",
       "traceback": [
        "\u001b[1;31m---------------------------------------------------------------------------\u001b[0m\n\u001b[1;31mImportError\u001b[0m                               Traceback (most recent call last)",
        "\u001b[1;32m<ipython-input-15-ba5b6e89705e>\u001b[0m in \u001b[0;36m<module>\u001b[1;34m()\u001b[0m\n\u001b[0;32m     10\u001b[0m \u001b[1;33m\u001b[0m\u001b[0m\n\u001b[0;32m     11\u001b[0m \u001b[1;33m\u001b[0m\u001b[0m\n\u001b[1;32m---> 12\u001b[1;33m \u001b[1;32mfrom\u001b[0m \u001b[0mPIL\u001b[0m \u001b[1;32mimport\u001b[0m \u001b[0mImage\u001b[0m\u001b[1;33m,\u001b[0m\u001b[0mImageDraw\u001b[0m\u001b[1;33m\u001b[0m\u001b[0m\n\u001b[0m\u001b[0;32m     13\u001b[0m \u001b[1;31m# import Image\u001b[0m\u001b[1;33m\u001b[0m\u001b[1;33m\u001b[0m\u001b[0m\n\u001b[0;32m     14\u001b[0m \u001b[1;32mdef\u001b[0m \u001b[0mdrawtree\u001b[0m\u001b[1;33m(\u001b[0m\u001b[0mtree\u001b[0m\u001b[1;33m,\u001b[0m\u001b[0mjpeg\u001b[0m\u001b[1;33m=\u001b[0m\u001b[1;34m'tree.jpg'\u001b[0m\u001b[1;33m)\u001b[0m\u001b[1;33m:\u001b[0m\u001b[1;33m\u001b[0m\u001b[0m\n",
        "\u001b[1;31mImportError\u001b[0m: No module named PIL"
       ]
      }
     ],
     "prompt_number": 15
    },
    {
     "cell_type": "code",
     "collapsed": false,
     "input": [
      "def printtree(tree,indent=''):\n",
      "   # Is this a leaf node?\n",
      "    if tree.yes!=None and tree.no!=None:\n",
      "        print(str(tree.yes))\n",
      "        print(str(tree.no))\n",
      "    else:\n",
      "        print(str(tree.column_name)+':'+str(tree.split)+'? ')\n",
      "        # Print the branches\n",
      "        print(indent+'Right->'  +\" \")\n",
      "        printtree(tree.right_node,indent+'  ')\n",
      "        print(indent+'Left->'+ \" \")\n",
      "        printtree(tree.left_node,indent+'  ')\n",
      "printtree(Tree)"
     ],
     "language": "python",
     "metadata": {},
     "outputs": [
      {
       "output_type": "stream",
       "stream": "stdout",
       "text": [
        "5:1? \n",
        "Right-> \n",
        "1:1? \n",
        "  Right-> \n",
        "2:1? \n",
        "    Right-> \n",
        "3:1? \n",
        "      Right-> \n",
        "1:2? \n",
        "        Right-> \n",
        "6\n",
        "2\n",
        "        Left-> \n",
        "5\n",
        "3\n",
        "      Left-> \n",
        "1:2? \n",
        "        Right-> \n",
        "6\n",
        "1\n",
        "        Left-> \n",
        "5\n",
        "1\n",
        "    Left-> \n",
        "0\n",
        "15\n",
        "  Left-> \n",
        "2:1? \n",
        "    Right-> \n",
        "0\n",
        "24\n",
        "    Left-> \n",
        "8\n",
        "0\n",
        "Left-> \n",
        "23\n",
        "0\n"
       ]
      }
     ],
     "prompt_number": 16
    },
    {
     "cell_type": "code",
     "collapsed": false,
     "input": [
      "def classify(observation,tree):\n",
      "  \n",
      "  if tree.yes!=None and tree.no!=None:\n",
      "    if(tree.no>tree.yes):\n",
      "        return 0\n",
      "    else:\n",
      "        return 1\n",
      "  else:\n",
      "    v=observation[tree.column_name]\n",
      "    branch=None\n",
      "    if v>=tree.split: \n",
      "        branch=tree.right_node\n",
      "    else: branch=tree.left_node\n",
      "    return classify(observation,branch)"
     ],
     "language": "python",
     "metadata": {},
     "outputs": [],
     "prompt_number": 17
    },
    {
     "cell_type": "code",
     "collapsed": false,
     "input": [
      "data = open(\"C:\\Users\\AshutoshBhargave\\Desktop\\AML\\PA1\\MONK DATA\\monks-1.test\",\"rb\")\n",
      "o = csv.reader(data,delimiter=\" \")\n",
      "test_data = []\n",
      "for i in o:\n",
      "    test_data.append(i[1:9])\n",
      "\n",
      "for index,datapoint in enumerate(test_data):\n",
      "    m=len(test_data[index])-1\n",
      "    id1=test_data[index][m]\n",
      "    test_data[index]=map(int,test_data[index][0:m])\n",
      "    test_data[index].append(id1)\n",
      "\n"
     ],
     "language": "python",
     "metadata": {},
     "outputs": [],
     "prompt_number": 18
    },
    {
     "cell_type": "code",
     "collapsed": false,
     "input": [
      "import pandas as pd \n",
      "df = pd.DataFrame()\n",
      "actual_id = []\n",
      "actual_label = []\n",
      "predicted_id = []\n",
      "predicted_label = []\n",
      "for tune in test_data:\n",
      "    \n",
      "    actual_id.append(str(tune[len(tune)-1]))\n",
      "    actual_label.append(str(tune[0]))\n",
      "for tune in test_data:\n",
      "    val = classify(tune,Tree)\n",
      "    predicted_id.append(str(tune[len(tune)-1]))\n",
      "    predicted_label.append(val)\n",
      "        \n",
      "data = pd.DataFrame({\"actual_id\": actual_id,'actual_label' :actual_label,'predicted_id':predicted_id,'predicted_label' :predicted_label})\n",
      "df.append(data)\n",
      "print(df)\n",
      "data.to_csv(\"C:\\\\Users\\\\AshutoshBhargave\\\\Desktop\\\\AML\\\\Tools\\\\test221.csv\")"
     ],
     "language": "python",
     "metadata": {},
     "outputs": [
      {
       "output_type": "stream",
       "stream": "stdout",
       "text": [
        "Empty DataFrame\n",
        "Columns: []\n",
        "Index: []\n"
       ]
      }
     ],
     "prompt_number": 19
    },
    {
     "cell_type": "code",
     "collapsed": false,
     "input": [
      "for index,datapoint in enumerate(tuning_set):\n",
      "    m=len(tuning_set[index])-1\n",
      "    id1=tuning_set[index][m]\n",
      "    tuning_set[index]=map(int,tuning_set[index][0:m])\n",
      "    tuning_set[index].append(id1)\n",
      "\n",
      "print(tuning_set)\n"
     ],
     "language": "python",
     "metadata": {},
     "outputs": [
      {
       "output_type": "stream",
       "stream": "stdout",
       "text": [
        "[[0, 2, 1, 1, 1, 3, 2, 'data_150'], [0, 2, 1, 2, 2, 3, 1, 'data_181'], [1, 2, 2, 1, 1, 2, 2, 'data_196'], [0, 2, 1, 2, 1, 3, 1, 'data_173'], [1, 2, 2, 2, 1, 1, 1, 'data_217'], [0, 1, 2, 1, 2, 4, 2, 'data_64'], [0, 3, 2, 2, 1, 3, 2, 'data_366'], [0, 3, 1, 2, 2, 3, 2, 'data_326'], [1, 1, 1, 2, 3, 1, 2, 'data_42'], [0, 2, 1, 1, 2, 2, 2, 'data_156'], [1, 3, 3, 2, 3, 1, 2, 'data_426'], [1, 2, 2, 1, 3, 2, 2, 'data_212'], [0, 2, 3, 1, 3, 3, 1, 'data_261'], [0, 1, 3, 1, 2, 2, 1, 'data_107'], [0, 3, 2, 1, 2, 4, 2, 'data_352'], [0, 1, 2, 2, 3, 3, 2, 'data_94'], [1, 3, 3, 1, 1, 1, 1, 'data_385'], [1, 2, 3, 2, 2, 1, 2, 'data_274'], [0, 1, 3, 2, 3, 4, 1, 'data_143'], [0, 1, 2, 2, 2, 4, 1, 'data_87'], [1, 1, 2, 1, 1, 1, 2, 'data_50'], [1, 3, 3, 1, 1, 4, 2, 'data_392'], [0, 1, 2, 2, 3, 2, 2, 'data_92'], [0, 1, 2, 1, 1, 2, 1, 'data_51'], [0, 2, 3, 1, 2, 3, 1, 'data_253']]\n"
       ]
      }
     ],
     "prompt_number": 20
    },
    {
     "cell_type": "code",
     "collapsed": false,
     "input": [
      "for i in range(0,len(training_cols)-1):\n",
      "    training_cols[int(i)] = map(int,training_cols[int(i)])\n",
      "training_cols[1]\n",
      "\n",
      "training_cols[1] = map(int,training_cols[1])\n",
      "print(training_cols[0])"
     ],
     "language": "python",
     "metadata": {},
     "outputs": [
      {
       "output_type": "stream",
       "stream": "stdout",
       "text": [
        "[0, 0, 1, 1, 1, 1, 0, 0, 1, 0, 0, 0, 1, 0, 0, 0, 0, 1, 1, 1, 1, 1, 0, 1, 1, 1, 1, 1, 1, 0, 0, 0, 1, 1, 0, 0, 1, 0, 0, 1, 0, 0, 1, 0, 0, 1, 0, 0, 1, 1, 1, 0, 1, 1, 1, 1, 1, 1, 0, 1, 0, 0, 0, 1, 0, 1, 0, 1, 1, 0, 0, 0, 0, 1, 0, 1, 0, 0, 1, 0, 0, 0, 1, 0, 0, 1, 0, 1, 0, 0, 0, 1, 1, 1, 0, 1, 1, 1, 0]\n"
       ]
      }
     ],
     "prompt_number": 161
    },
    {
     "cell_type": "code",
     "collapsed": false,
     "input": [],
     "language": "python",
     "metadata": {},
     "outputs": []
    },
    {
     "cell_type": "code",
     "collapsed": false,
     "input": [
      "precision = [1,3,4,5,2,4]    \n",
      "recall = [3,2,4.5,3,2,4]\n",
      "accuracy = [67,45,33,99,21]\n"
     ],
     "language": "python",
     "metadata": {},
     "outputs": [
      {
       "output_type": "stream",
       "stream": "stdout",
       "text": [
        "2\n",
        "2\n",
        "1\n",
        "2\n",
        "3\n",
        "2\n"
       ]
      }
     ],
     "prompt_number": 162
    },
    {
     "cell_type": "code",
     "collapsed": false,
     "input": [
      "median([2,34444,222,13,42,34,22,13,4,2,4,4])"
     ],
     "language": "python",
     "metadata": {},
     "outputs": [
      {
       "metadata": {},
       "output_type": "pyout",
       "prompt_number": 164,
       "text": [
        "13"
       ]
      }
     ],
     "prompt_number": 164
    },
    {
     "cell_type": "code",
     "collapsed": false,
     "input": [
      "import matplotlib.pyplot as pyplot\n",
      "pyplot.axis([1, 12, 0, 100])\n",
      "x = [1,2,4,6,8,10,12]\n",
      "y = [51,57,59,61,43,42,42]\n",
      "pyplot.line = pyplot.plot(x,y, label='x cubed')\n",
      "\n",
      "pyplot.xlabel('Depth of the tree', rotation='horizontal')\n",
      "pyplot.title('Learning Curve Credit dataset')\n",
      "pyplot.ylabel('Accuracy at each depth',rotation='vertical')\n",
      "\n"
     ],
     "language": "python",
     "metadata": {},
     "outputs": [
      {
       "metadata": {},
       "output_type": "pyout",
       "prompt_number": 21,
       "text": [
        "<matplotlib.text.Text at 0x6fc01f0>"
       ]
      },
      {
       "metadata": {},
       "output_type": "display_data",
       "png": "[encoded data removed]",
       "text": [
        "<matplotlib.figure.Figure at 0x6fc63d0>"
       ]
      }
     ],
     "prompt_number": 21
    },
    {
     "cell_type": "code",
     "collapsed": false,
     "input": [
      "i = pd.read_csv(\"C:\\Users\\AshutoshBhargave\\Desktop\\AML\\PA1\\MONK DATA\\monks-1.txt\",delimiter=\" \",header=None)\n",
      "data = i.iloc[:,1:9]\n",
      "print(data.sample(n=2))\n",
      "# sample(data,2)\n",
      "# print(training_set)"
     ],
     "language": "python",
     "metadata": {},
     "outputs": [
      {
       "output_type": "stream",
       "stream": "stdout",
       "text": [
        "    1  2  3  4  5  6  7         8\n",
        "45  0  2  1  1  1  3  1  data_149\n",
        "34  0  1  3  1  3  4  2  data_120\n"
       ]
      }
     ],
     "prompt_number": 109
    },
    {
     "cell_type": "code",
     "collapsed": false,
     "input": [],
     "language": "python",
     "metadata": {},
     "outputs": []
    }
   ],
   "metadata": {}
  }
 ]
}